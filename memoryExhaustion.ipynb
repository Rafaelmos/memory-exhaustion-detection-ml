{
 "cells": [
  {
   "cell_type": "code",
   "execution_count": 1,
   "metadata": {},
   "outputs": [],
   "source": [
    "import pandas as pd\n",
    "import numpy as np\n",
    "from sklearn.model_selection import train_test_split\n",
    "from sklearn.svm import SVR\n",
    "from sklearn.neighbors import KNeighborsRegressor\n",
    "from sklearn.metrics import mean_squared_error, mean_absolute_error, r2_score\n",
    "from sklearn.ensemble import RandomForestRegressor"
   ]
  },
  {
   "cell_type": "code",
   "execution_count": 2,
   "metadata": {},
   "outputs": [],
   "source": [
    "data_path = \"./SQL Server/Carga Alta/monitoramento-memoria.txt\"\n",
    "df = pd.read_csv(data_path, sep=\" \", engine='python')\n",
    "\n",
    "df['Elapsed_time'] = df['Elapsed_time'] / 3600 \n",
    "df['Mem_used'] = df['Mem_used'] / 10**6\n",
    "df['Mem_total'] = df['Mem_total'] / 10**6\n",
    "df['Mem_used_ratio'] = df['Mem_used'] / df['Mem_total']"
   ]
  },
  {
   "cell_type": "code",
   "execution_count": 3,
   "metadata": {},
   "outputs": [
    {
     "data": {
      "text/html": [
       "<div>\n",
       "<style scoped>\n",
       "    .dataframe tbody tr th:only-of-type {\n",
       "        vertical-align: middle;\n",
       "    }\n",
       "\n",
       "    .dataframe tbody tr th {\n",
       "        vertical-align: top;\n",
       "    }\n",
       "\n",
       "    .dataframe thead th {\n",
       "        text-align: right;\n",
       "    }\n",
       "</style>\n",
       "<table border=\"1\" class=\"dataframe\">\n",
       "  <thead>\n",
       "    <tr style=\"text-align: right;\">\n",
       "      <th></th>\n",
       "      <th>Mem_used</th>\n",
       "      <th>Mem_free</th>\n",
       "      <th>Mem_total</th>\n",
       "      <th>Mem_Disp</th>\n",
       "      <th>Date</th>\n",
       "      <th>Time</th>\n",
       "      <th>Elapsed_time</th>\n",
       "      <th>Mem_used_ratio</th>\n",
       "    </tr>\n",
       "  </thead>\n",
       "  <tbody>\n",
       "    <tr>\n",
       "      <th>0</th>\n",
       "      <td>1.344048</td>\n",
       "      <td>3790264</td>\n",
       "      <td>7.088316</td>\n",
       "      <td>5504088</td>\n",
       "      <td>2022-12-26</td>\n",
       "      <td>21:30:58</td>\n",
       "      <td>0.000000</td>\n",
       "      <td>0.189615</td>\n",
       "    </tr>\n",
       "    <tr>\n",
       "      <th>1</th>\n",
       "      <td>1.346484</td>\n",
       "      <td>3787548</td>\n",
       "      <td>7.088316</td>\n",
       "      <td>5501544</td>\n",
       "      <td>2022-12-26</td>\n",
       "      <td>21:31:03</td>\n",
       "      <td>0.001389</td>\n",
       "      <td>0.189958</td>\n",
       "    </tr>\n",
       "    <tr>\n",
       "      <th>2</th>\n",
       "      <td>1.346700</td>\n",
       "      <td>3787300</td>\n",
       "      <td>7.088316</td>\n",
       "      <td>5501328</td>\n",
       "      <td>2022-12-26</td>\n",
       "      <td>21:31:08</td>\n",
       "      <td>0.002778</td>\n",
       "      <td>0.189989</td>\n",
       "    </tr>\n",
       "    <tr>\n",
       "      <th>3</th>\n",
       "      <td>1.347440</td>\n",
       "      <td>3786544</td>\n",
       "      <td>7.088316</td>\n",
       "      <td>5500588</td>\n",
       "      <td>2022-12-26</td>\n",
       "      <td>21:31:13</td>\n",
       "      <td>0.004167</td>\n",
       "      <td>0.190093</td>\n",
       "    </tr>\n",
       "    <tr>\n",
       "      <th>4</th>\n",
       "      <td>1.347680</td>\n",
       "      <td>3786292</td>\n",
       "      <td>7.088316</td>\n",
       "      <td>5500348</td>\n",
       "      <td>2022-12-26</td>\n",
       "      <td>21:31:18</td>\n",
       "      <td>0.005556</td>\n",
       "      <td>0.190127</td>\n",
       "    </tr>\n",
       "    <tr>\n",
       "      <th>...</th>\n",
       "      <td>...</td>\n",
       "      <td>...</td>\n",
       "      <td>...</td>\n",
       "      <td>...</td>\n",
       "      <td>...</td>\n",
       "      <td>...</td>\n",
       "      <td>...</td>\n",
       "      <td>...</td>\n",
       "    </tr>\n",
       "    <tr>\n",
       "      <th>34444</th>\n",
       "      <td>1.724868</td>\n",
       "      <td>2487800</td>\n",
       "      <td>7.088316</td>\n",
       "      <td>5116692</td>\n",
       "      <td>2022-12-28</td>\n",
       "      <td>21:40:58</td>\n",
       "      <td>47.838889</td>\n",
       "      <td>0.243340</td>\n",
       "    </tr>\n",
       "    <tr>\n",
       "      <th>34445</th>\n",
       "      <td>1.737760</td>\n",
       "      <td>2474504</td>\n",
       "      <td>7.088316</td>\n",
       "      <td>5103768</td>\n",
       "      <td>2022-12-28</td>\n",
       "      <td>21:41:03</td>\n",
       "      <td>47.840278</td>\n",
       "      <td>0.245158</td>\n",
       "    </tr>\n",
       "    <tr>\n",
       "      <th>34446</th>\n",
       "      <td>1.727780</td>\n",
       "      <td>2484416</td>\n",
       "      <td>7.088316</td>\n",
       "      <td>5113744</td>\n",
       "      <td>2022-12-28</td>\n",
       "      <td>21:41:08</td>\n",
       "      <td>47.841667</td>\n",
       "      <td>0.243750</td>\n",
       "    </tr>\n",
       "    <tr>\n",
       "      <th>34447</th>\n",
       "      <td>1.728020</td>\n",
       "      <td>2484168</td>\n",
       "      <td>7.088316</td>\n",
       "      <td>5113504</td>\n",
       "      <td>2022-12-28</td>\n",
       "      <td>21:41:13</td>\n",
       "      <td>47.843056</td>\n",
       "      <td>0.243784</td>\n",
       "    </tr>\n",
       "    <tr>\n",
       "      <th>34448</th>\n",
       "      <td>1.743372</td>\n",
       "      <td>2468816</td>\n",
       "      <td>7.088316</td>\n",
       "      <td>5098152</td>\n",
       "      <td>2022-12-28</td>\n",
       "      <td>21:41:18</td>\n",
       "      <td>47.844444</td>\n",
       "      <td>0.245950</td>\n",
       "    </tr>\n",
       "  </tbody>\n",
       "</table>\n",
       "<p>34449 rows × 8 columns</p>\n",
       "</div>"
      ],
      "text/plain": [
       "       Mem_used  Mem_free  Mem_total  Mem_Disp        Date      Time  \\\n",
       "0      1.344048   3790264   7.088316   5504088  2022-12-26  21:30:58   \n",
       "1      1.346484   3787548   7.088316   5501544  2022-12-26  21:31:03   \n",
       "2      1.346700   3787300   7.088316   5501328  2022-12-26  21:31:08   \n",
       "3      1.347440   3786544   7.088316   5500588  2022-12-26  21:31:13   \n",
       "4      1.347680   3786292   7.088316   5500348  2022-12-26  21:31:18   \n",
       "...         ...       ...        ...       ...         ...       ...   \n",
       "34444  1.724868   2487800   7.088316   5116692  2022-12-28  21:40:58   \n",
       "34445  1.737760   2474504   7.088316   5103768  2022-12-28  21:41:03   \n",
       "34446  1.727780   2484416   7.088316   5113744  2022-12-28  21:41:08   \n",
       "34447  1.728020   2484168   7.088316   5113504  2022-12-28  21:41:13   \n",
       "34448  1.743372   2468816   7.088316   5098152  2022-12-28  21:41:18   \n",
       "\n",
       "       Elapsed_time  Mem_used_ratio  \n",
       "0          0.000000        0.189615  \n",
       "1          0.001389        0.189958  \n",
       "2          0.002778        0.189989  \n",
       "3          0.004167        0.190093  \n",
       "4          0.005556        0.190127  \n",
       "...             ...             ...  \n",
       "34444     47.838889        0.243340  \n",
       "34445     47.840278        0.245158  \n",
       "34446     47.841667        0.243750  \n",
       "34447     47.843056        0.243784  \n",
       "34448     47.844444        0.245950  \n",
       "\n",
       "[34449 rows x 8 columns]"
      ]
     },
     "execution_count": 3,
     "metadata": {},
     "output_type": "execute_result"
    }
   ],
   "source": [
    "df"
   ]
  },
  {
   "cell_type": "code",
   "execution_count": 4,
   "metadata": {},
   "outputs": [],
   "source": [
    "X = df['Mem_used']\n",
    "y = df['Elapsed_time']"
   ]
  },
  {
   "cell_type": "code",
   "execution_count": 5,
   "metadata": {},
   "outputs": [],
   "source": [
    "X_train, X_test, y_train, y_test = train_test_split(X, y, test_size=0.2, random_state=123)"
   ]
  },
  {
   "cell_type": "code",
   "execution_count": null,
   "metadata": {},
   "outputs": [],
   "source": [
    "def ml (model, X_test, y_test, predict_value):\n",
    "\n",
    "  model.fit(X_train.values.reshape(-1, 1), y_train)\n",
    "  y_pred = model.predict(X_test.values.reshape(-1, 1))\n",
    "  #print(previsoes[0:5])\n",
    "  #print(y_test[0:5])\n",
    "  mse = mean_squared_error(y_test, y_pred)\n",
    "  rmse = mse**0.5\n",
    "  r2 = r2_score(y_test, y_pred)\n",
    "  mae = mean_absolute_error(y_test, y_pred)\n",
    "  print(f\"MAE: {mae}\")\n",
    "  print(f\"RMSE: {rmse}\")\n",
    "  print(f\"R2: {r2}\")\n",
    "  print(f\"Previsão: {model.predict(predict_value.values.reshape(-1,1))}\")\n",
    "  return"
   ]
  },
  {
   "cell_type": "code",
   "execution_count": 7,
   "metadata": {},
   "outputs": [],
   "source": [
    "predict_value = 7.088316\n",
    "predict_value = pd.Series([predict_value])"
   ]
  },
  {
   "cell_type": "code",
   "execution_count": 8,
   "metadata": {},
   "outputs": [
    {
     "name": "stdout",
     "output_type": "stream",
     "text": [
      "MAE: 4.2605378612768545\n",
      "RMSE: 5.577988973869034\n",
      "R2: 0.8362170825451167\n",
      "Previsão: [37.11820988]\n"
     ]
    }
   ],
   "source": [
    "knn = KNeighborsRegressor(n_neighbors=9)\n",
    "ml(knn, X_test, y_test, predict_value)"
   ]
  },
  {
   "cell_type": "code",
   "execution_count": 9,
   "metadata": {},
   "outputs": [
    {
     "name": "stdout",
     "output_type": "stream",
     "text": [
      "MAE: 4.338383158954207\n",
      "RMSE: 5.490872665221026\n",
      "R2: 0.8412930137070946\n",
      "Previsão: [16.26497892]\n"
     ]
    }
   ],
   "source": [
    "svm =  SVR(kernel='rbf')\n",
    "ml(svm, X_test, y_test, predict_value)"
   ]
  },
  {
   "cell_type": "code",
   "execution_count": null,
   "metadata": {},
   "outputs": [],
   "source": [
    "rf = RandomForestRegressor()\n",
    "ml(rf, X_test, y_test, predict_value)"
   ]
  }
 ],
 "metadata": {
  "kernelspec": {
   "display_name": "env-tcc",
   "language": "python",
   "name": "python3"
  },
  "language_info": {
   "codemirror_mode": {
    "name": "ipython",
    "version": 3
   },
   "file_extension": ".py",
   "mimetype": "text/x-python",
   "name": "python",
   "nbconvert_exporter": "python",
   "pygments_lexer": "ipython3",
   "version": "3.10.13"
  }
 },
 "nbformat": 4,
 "nbformat_minor": 2
}
